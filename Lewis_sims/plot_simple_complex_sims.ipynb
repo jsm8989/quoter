{
 "cells": [
  {
   "cell_type": "code",
   "execution_count": 2,
   "metadata": {
    "collapsed": true
   },
   "outputs": [],
   "source": [
    "import numpy as np\n",
    "import pandas as pd\n",
    "import matplotlib.pyplot as plt\n"
   ]
  },
  {
   "cell_type": "code",
   "execution_count": 24,
   "metadata": {},
   "outputs": [],
   "source": [
    "# load all the files we made\n",
    "\n",
    "ER_simple_peak_size_m = pd.read_csv('ER_simple_peak_size_m.csv')\n",
    "ER_simple_peak_size_var = pd.read_csv('ER_simple_peak_size_var.csv')\n",
    "BA_simple_peak_size_m = pd.read_csv('BA_simple_peak_size_m.csv')\n",
    "BA_simple_peak_size_var = pd.read_csv('BA_simple_peak_size_var.csv')\n",
    "ER_complex_peak_size_m = pd.read_csv('ER_complex_peak_size_m.csv')\n",
    "ER_complex_peak_size_var = pd.read_csv('ER_complex_peak_size_var.csv')\n",
    "BA_complex_peak_size_m = pd.read_csv('BA_complex_peak_size_m.csv')\n",
    "BA_complex_peak_size_var = pd.read_csv('BA_complex_peak_size_var.csv')\n"
   ]
  },
  {
   "cell_type": "code",
   "execution_count": null,
   "metadata": {},
   "outputs": [],
   "source": [
    "# plot all the things:\n",
    "# top row = simple contagion\n",
    "# bottom row = complex contagion\n",
    "\n",
    "plt.subplot(221)\n",
    "plt.plot(ER_simple_peak_size_m['k'],ER_simple_peak_size_m['peak_size'],'-o')\n",
    "plt.plot(BA_simple_peak_size_m['m'],BA_simple_peak_size_m['peak_size'],'-o')\n",
    "plt.ylabel('Average peak size')\n",
    "\n",
    "plt.subplot(222)\n",
    "plt.plot(ER_simple_peak_size_var['k'],ER_simple_peak_size_var['peak_size'],'-o',label='Erdos-Renyi')\n",
    "plt.plot(BA_simple_peak_size_var['m'],BA_simple_peak_size_var['peak_size'],'-o',label='Barabasi-Albert')\n",
    "plt.ylabel('Variance')\n",
    "plt.legend(loc=0)\n",
    "\n",
    "plt.subplot(223)\n",
    "plt.plot(ER_complex_peak_size_m['k'],ER_complex_peak_size_m['peak_size'],'-o')\n",
    "plt.plot(BA_complex_peak_size_m['m'],BA_complex_peak_size_m['peak_size'],'-o')\n",
    "plt.ylabel('Average peak size')\n",
    "plt.xlabel('<k>')\n",
    "\n",
    "plt.subplot(224)\n",
    "plt.plot(ER_complex_peak_size_var['k'],ER_complex_peak_size_var['peak_size'],'-o')\n",
    "plt.plot(BA_complex_peak_size_var['m'],BA_complex_peak_size_var['peak_size'],'-o')\n",
    "plt.ylabel('Variance')\n",
    "plt.xlabel('<k>')\n",
    "plt.tight_layout()\n",
    "\n",
    "plt.savefig('simple_complex_sims.pdf')\n",
    "plt.show()"
   ]
  },
  {
   "cell_type": "code",
   "execution_count": null,
   "metadata": {
    "collapsed": true
   },
   "outputs": [],
   "source": []
  }
 ],
 "metadata": {
  "kernelspec": {
   "display_name": "Python 3",
   "language": "python",
   "name": "python3"
  },
  "language_info": {
   "codemirror_mode": {
    "name": "ipython",
    "version": 3
   },
   "file_extension": ".py",
   "mimetype": "text/x-python",
   "name": "python",
   "nbconvert_exporter": "python",
   "pygments_lexer": "ipython3",
   "version": "3.6.7"
  },
  "toc": {
   "base_numbering": 1,
   "nav_menu": {},
   "number_sections": true,
   "sideBar": true,
   "skip_h1_title": false,
   "title_cell": "Table of Contents",
   "title_sidebar": "Contents",
   "toc_cell": false,
   "toc_position": {},
   "toc_section_display": true,
   "toc_window_display": false
  }
 },
 "nbformat": 4,
 "nbformat_minor": 2
}
